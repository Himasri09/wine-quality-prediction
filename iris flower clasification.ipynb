{
 "cells": [
  {
   "cell_type": "code",
   "execution_count": 1,
   "metadata": {},
   "outputs": [],
   "source": [
    "import pandas as pd\n",
    "import numpy as np\n",
    "import seaborn as sns\n",
    "import matplotlib.pyplot as plt\n",
    "\n",
    "\n",
    "from warnings import filterwarnings\n",
    "filterwarnings(action='ignore')"
   ]
  },
  {
   "cell_type": "code",
   "execution_count": 2,
   "metadata": {},
   "outputs": [
    {
     "name": "stdout",
     "output_type": "stream",
     "text": [
      "     Unnamed: 0  Sepal.Length  Sepal.Width  Petal.Length  Petal.Width  \\\n",
      "0             1           5.1          3.5           1.4          0.2   \n",
      "1             2           4.9          3.0           1.4          0.2   \n",
      "2             3           4.7          3.2           1.3          0.2   \n",
      "3             4           4.6          3.1           1.5          0.2   \n",
      "4             5           5.0          3.6           1.4          0.2   \n",
      "..          ...           ...          ...           ...          ...   \n",
      "145         146           6.7          3.0           5.2          2.3   \n",
      "146         147           6.3          2.5           5.0          1.9   \n",
      "147         148           6.5          3.0           5.2          2.0   \n",
      "148         149           6.2          3.4           5.4          2.3   \n",
      "149         150           5.9          3.0           5.1          1.8   \n",
      "\n",
      "       Species  \n",
      "0       setosa  \n",
      "1       setosa  \n",
      "2       setosa  \n",
      "3       setosa  \n",
      "4       setosa  \n",
      "..         ...  \n",
      "145  virginica  \n",
      "146  virginica  \n",
      "147  virginica  \n",
      "148  virginica  \n",
      "149  virginica  \n",
      "\n",
      "[150 rows x 6 columns]\n"
     ]
    }
   ],
   "source": [
    "iris=pd.read_csv(\"iris.csv\")\n",
    "print(iris)"
   ]
  },
  {
   "cell_type": "code",
   "execution_count": 3,
   "metadata": {},
   "outputs": [
    {
     "name": "stdout",
     "output_type": "stream",
     "text": [
      "(150, 6)\n"
     ]
    }
   ],
   "source": [
    "print(iris.shape)"
   ]
  },
  {
   "cell_type": "code",
   "execution_count": 4,
   "metadata": {},
   "outputs": [
    {
     "name": "stdout",
     "output_type": "stream",
     "text": [
      "       Unnamed: 0  Sepal.Length  Sepal.Width  Petal.Length  Petal.Width\n",
      "count  150.000000    150.000000   150.000000    150.000000   150.000000\n",
      "mean    75.500000      5.843333     3.057333      3.758000     1.199333\n",
      "std     43.445368      0.828066     0.435866      1.765298     0.762238\n",
      "min      1.000000      4.300000     2.000000      1.000000     0.100000\n",
      "25%     38.250000      5.100000     2.800000      1.600000     0.300000\n",
      "50%     75.500000      5.800000     3.000000      4.350000     1.300000\n",
      "75%    112.750000      6.400000     3.300000      5.100000     1.800000\n",
      "max    150.000000      7.900000     4.400000      6.900000     2.500000\n"
     ]
    }
   ],
   "source": [
    "print(iris.describe())"
   ]
  },
  {
   "cell_type": "code",
   "execution_count": 5,
   "metadata": {},
   "outputs": [
    {
     "name": "stdout",
     "output_type": "stream",
     "text": [
      "Unnamed: 0      0\n",
      "Sepal.Length    0\n",
      "Sepal.Width     0\n",
      "Petal.Length    0\n",
      "Petal.Width     0\n",
      "Species         0\n",
      "dtype: int64\n",
      "       Unnamed: 0  Sepal.Length  Sepal.Width  Petal.Length  Petal.Width\n",
      "count  150.000000    150.000000   150.000000    150.000000   150.000000\n",
      "mean    75.500000      5.843333     3.057333      3.758000     1.199333\n",
      "std     43.445368      0.828066     0.435866      1.765298     0.762238\n",
      "min      1.000000      4.300000     2.000000      1.000000     0.100000\n",
      "25%     38.250000      5.100000     2.800000      1.600000     0.300000\n",
      "50%     75.500000      5.800000     3.000000      4.350000     1.300000\n",
      "75%    112.750000      6.400000     3.300000      5.100000     1.800000\n",
      "max    150.000000      7.900000     4.400000      6.900000     2.500000\n"
     ]
    }
   ],
   "source": [
    "#Checking for null values\n",
    "print(iris.isna().sum())\n",
    "print(iris.describe())"
   ]
  },
  {
   "cell_type": "code",
   "execution_count": 6,
   "metadata": {},
   "outputs": [
    {
     "data": {
      "text/html": [
       "<div>\n",
       "<style scoped>\n",
       "    .dataframe tbody tr th:only-of-type {\n",
       "        vertical-align: middle;\n",
       "    }\n",
       "\n",
       "    .dataframe tbody tr th {\n",
       "        vertical-align: top;\n",
       "    }\n",
       "\n",
       "    .dataframe thead th {\n",
       "        text-align: right;\n",
       "    }\n",
       "</style>\n",
       "<table border=\"1\" class=\"dataframe\">\n",
       "  <thead>\n",
       "    <tr style=\"text-align: right;\">\n",
       "      <th></th>\n",
       "      <th>Unnamed: 0</th>\n",
       "      <th>Sepal.Length</th>\n",
       "      <th>Sepal.Width</th>\n",
       "      <th>Petal.Length</th>\n",
       "      <th>Petal.Width</th>\n",
       "      <th>Species</th>\n",
       "    </tr>\n",
       "  </thead>\n",
       "  <tbody>\n",
       "    <tr>\n",
       "      <th>0</th>\n",
       "      <td>1</td>\n",
       "      <td>5.1</td>\n",
       "      <td>3.5</td>\n",
       "      <td>1.4</td>\n",
       "      <td>0.2</td>\n",
       "      <td>setosa</td>\n",
       "    </tr>\n",
       "    <tr>\n",
       "      <th>1</th>\n",
       "      <td>2</td>\n",
       "      <td>4.9</td>\n",
       "      <td>3.0</td>\n",
       "      <td>1.4</td>\n",
       "      <td>0.2</td>\n",
       "      <td>setosa</td>\n",
       "    </tr>\n",
       "    <tr>\n",
       "      <th>2</th>\n",
       "      <td>3</td>\n",
       "      <td>4.7</td>\n",
       "      <td>3.2</td>\n",
       "      <td>1.3</td>\n",
       "      <td>0.2</td>\n",
       "      <td>setosa</td>\n",
       "    </tr>\n",
       "    <tr>\n",
       "      <th>3</th>\n",
       "      <td>4</td>\n",
       "      <td>4.6</td>\n",
       "      <td>3.1</td>\n",
       "      <td>1.5</td>\n",
       "      <td>0.2</td>\n",
       "      <td>setosa</td>\n",
       "    </tr>\n",
       "    <tr>\n",
       "      <th>4</th>\n",
       "      <td>5</td>\n",
       "      <td>5.0</td>\n",
       "      <td>3.6</td>\n",
       "      <td>1.4</td>\n",
       "      <td>0.2</td>\n",
       "      <td>setosa</td>\n",
       "    </tr>\n",
       "  </tbody>\n",
       "</table>\n",
       "</div>"
      ],
      "text/plain": [
       "   Unnamed: 0  Sepal.Length  Sepal.Width  Petal.Length  Petal.Width Species\n",
       "0           1           5.1          3.5           1.4          0.2  setosa\n",
       "1           2           4.9          3.0           1.4          0.2  setosa\n",
       "2           3           4.7          3.2           1.3          0.2  setosa\n",
       "3           4           4.6          3.1           1.5          0.2  setosa\n",
       "4           5           5.0          3.6           1.4          0.2  setosa"
      ]
     },
     "execution_count": 6,
     "metadata": {},
     "output_type": "execute_result"
    }
   ],
   "source": [
    "iris.head()"
   ]
  },
  {
   "cell_type": "code",
   "execution_count": 7,
   "metadata": {},
   "outputs": [
    {
     "data": {
      "text/html": [
       "<div>\n",
       "<style scoped>\n",
       "    .dataframe tbody tr th:only-of-type {\n",
       "        vertical-align: middle;\n",
       "    }\n",
       "\n",
       "    .dataframe tbody tr th {\n",
       "        vertical-align: top;\n",
       "    }\n",
       "\n",
       "    .dataframe thead th {\n",
       "        text-align: right;\n",
       "    }\n",
       "</style>\n",
       "<table border=\"1\" class=\"dataframe\">\n",
       "  <thead>\n",
       "    <tr style=\"text-align: right;\">\n",
       "      <th></th>\n",
       "      <th>Unnamed: 0</th>\n",
       "      <th>Sepal.Length</th>\n",
       "      <th>Sepal.Width</th>\n",
       "      <th>Petal.Length</th>\n",
       "      <th>Petal.Width</th>\n",
       "      <th>Species</th>\n",
       "    </tr>\n",
       "  </thead>\n",
       "  <tbody>\n",
       "    <tr>\n",
       "      <th>0</th>\n",
       "      <td>1</td>\n",
       "      <td>5.1</td>\n",
       "      <td>3.5</td>\n",
       "      <td>1.4</td>\n",
       "      <td>0.2</td>\n",
       "      <td>setosa</td>\n",
       "    </tr>\n",
       "    <tr>\n",
       "      <th>1</th>\n",
       "      <td>2</td>\n",
       "      <td>4.9</td>\n",
       "      <td>3.0</td>\n",
       "      <td>1.4</td>\n",
       "      <td>0.2</td>\n",
       "      <td>setosa</td>\n",
       "    </tr>\n",
       "    <tr>\n",
       "      <th>2</th>\n",
       "      <td>3</td>\n",
       "      <td>4.7</td>\n",
       "      <td>3.2</td>\n",
       "      <td>1.3</td>\n",
       "      <td>0.2</td>\n",
       "      <td>setosa</td>\n",
       "    </tr>\n",
       "    <tr>\n",
       "      <th>3</th>\n",
       "      <td>4</td>\n",
       "      <td>4.6</td>\n",
       "      <td>3.1</td>\n",
       "      <td>1.5</td>\n",
       "      <td>0.2</td>\n",
       "      <td>setosa</td>\n",
       "    </tr>\n",
       "    <tr>\n",
       "      <th>4</th>\n",
       "      <td>5</td>\n",
       "      <td>5.0</td>\n",
       "      <td>3.6</td>\n",
       "      <td>1.4</td>\n",
       "      <td>0.2</td>\n",
       "      <td>setosa</td>\n",
       "    </tr>\n",
       "    <tr>\n",
       "      <th>...</th>\n",
       "      <td>...</td>\n",
       "      <td>...</td>\n",
       "      <td>...</td>\n",
       "      <td>...</td>\n",
       "      <td>...</td>\n",
       "      <td>...</td>\n",
       "    </tr>\n",
       "    <tr>\n",
       "      <th>145</th>\n",
       "      <td>146</td>\n",
       "      <td>6.7</td>\n",
       "      <td>3.0</td>\n",
       "      <td>5.2</td>\n",
       "      <td>2.3</td>\n",
       "      <td>virginica</td>\n",
       "    </tr>\n",
       "    <tr>\n",
       "      <th>146</th>\n",
       "      <td>147</td>\n",
       "      <td>6.3</td>\n",
       "      <td>2.5</td>\n",
       "      <td>5.0</td>\n",
       "      <td>1.9</td>\n",
       "      <td>virginica</td>\n",
       "    </tr>\n",
       "    <tr>\n",
       "      <th>147</th>\n",
       "      <td>148</td>\n",
       "      <td>6.5</td>\n",
       "      <td>3.0</td>\n",
       "      <td>5.2</td>\n",
       "      <td>2.0</td>\n",
       "      <td>virginica</td>\n",
       "    </tr>\n",
       "    <tr>\n",
       "      <th>148</th>\n",
       "      <td>149</td>\n",
       "      <td>6.2</td>\n",
       "      <td>3.4</td>\n",
       "      <td>5.4</td>\n",
       "      <td>2.3</td>\n",
       "      <td>virginica</td>\n",
       "    </tr>\n",
       "    <tr>\n",
       "      <th>149</th>\n",
       "      <td>150</td>\n",
       "      <td>5.9</td>\n",
       "      <td>3.0</td>\n",
       "      <td>5.1</td>\n",
       "      <td>1.8</td>\n",
       "      <td>virginica</td>\n",
       "    </tr>\n",
       "  </tbody>\n",
       "</table>\n",
       "<p>150 rows × 6 columns</p>\n",
       "</div>"
      ],
      "text/plain": [
       "     Unnamed: 0  Sepal.Length  Sepal.Width  Petal.Length  Petal.Width  \\\n",
       "0             1           5.1          3.5           1.4          0.2   \n",
       "1             2           4.9          3.0           1.4          0.2   \n",
       "2             3           4.7          3.2           1.3          0.2   \n",
       "3             4           4.6          3.1           1.5          0.2   \n",
       "4             5           5.0          3.6           1.4          0.2   \n",
       "..          ...           ...          ...           ...          ...   \n",
       "145         146           6.7          3.0           5.2          2.3   \n",
       "146         147           6.3          2.5           5.0          1.9   \n",
       "147         148           6.5          3.0           5.2          2.0   \n",
       "148         149           6.2          3.4           5.4          2.3   \n",
       "149         150           5.9          3.0           5.1          1.8   \n",
       "\n",
       "       Species  \n",
       "0       setosa  \n",
       "1       setosa  \n",
       "2       setosa  \n",
       "3       setosa  \n",
       "4       setosa  \n",
       "..         ...  \n",
       "145  virginica  \n",
       "146  virginica  \n",
       "147  virginica  \n",
       "148  virginica  \n",
       "149  virginica  \n",
       "\n",
       "[150 rows x 6 columns]"
      ]
     },
     "execution_count": 7,
     "metadata": {},
     "output_type": "execute_result"
    }
   ],
   "source": [
    "iris.head(150)"
   ]
  },
  {
   "cell_type": "code",
   "execution_count": 8,
   "metadata": {},
   "outputs": [
    {
     "data": {
      "text/html": [
       "<div>\n",
       "<style scoped>\n",
       "    .dataframe tbody tr th:only-of-type {\n",
       "        vertical-align: middle;\n",
       "    }\n",
       "\n",
       "    .dataframe tbody tr th {\n",
       "        vertical-align: top;\n",
       "    }\n",
       "\n",
       "    .dataframe thead th {\n",
       "        text-align: right;\n",
       "    }\n",
       "</style>\n",
       "<table border=\"1\" class=\"dataframe\">\n",
       "  <thead>\n",
       "    <tr style=\"text-align: right;\">\n",
       "      <th></th>\n",
       "      <th>Unnamed: 0</th>\n",
       "      <th>Sepal.Length</th>\n",
       "      <th>Sepal.Width</th>\n",
       "      <th>Petal.Length</th>\n",
       "      <th>Petal.Width</th>\n",
       "      <th>Species</th>\n",
       "    </tr>\n",
       "  </thead>\n",
       "  <tbody>\n",
       "    <tr>\n",
       "      <th>0</th>\n",
       "      <td>1</td>\n",
       "      <td>5.1</td>\n",
       "      <td>3.5</td>\n",
       "      <td>1.4</td>\n",
       "      <td>0.2</td>\n",
       "      <td>setosa</td>\n",
       "    </tr>\n",
       "    <tr>\n",
       "      <th>1</th>\n",
       "      <td>2</td>\n",
       "      <td>4.9</td>\n",
       "      <td>3.0</td>\n",
       "      <td>1.4</td>\n",
       "      <td>0.2</td>\n",
       "      <td>setosa</td>\n",
       "    </tr>\n",
       "    <tr>\n",
       "      <th>2</th>\n",
       "      <td>3</td>\n",
       "      <td>4.7</td>\n",
       "      <td>3.2</td>\n",
       "      <td>1.3</td>\n",
       "      <td>0.2</td>\n",
       "      <td>setosa</td>\n",
       "    </tr>\n",
       "    <tr>\n",
       "      <th>3</th>\n",
       "      <td>4</td>\n",
       "      <td>4.6</td>\n",
       "      <td>3.1</td>\n",
       "      <td>1.5</td>\n",
       "      <td>0.2</td>\n",
       "      <td>setosa</td>\n",
       "    </tr>\n",
       "    <tr>\n",
       "      <th>4</th>\n",
       "      <td>5</td>\n",
       "      <td>5.0</td>\n",
       "      <td>3.6</td>\n",
       "      <td>1.4</td>\n",
       "      <td>0.2</td>\n",
       "      <td>setosa</td>\n",
       "    </tr>\n",
       "    <tr>\n",
       "      <th>...</th>\n",
       "      <td>...</td>\n",
       "      <td>...</td>\n",
       "      <td>...</td>\n",
       "      <td>...</td>\n",
       "      <td>...</td>\n",
       "      <td>...</td>\n",
       "    </tr>\n",
       "    <tr>\n",
       "      <th>145</th>\n",
       "      <td>146</td>\n",
       "      <td>6.7</td>\n",
       "      <td>3.0</td>\n",
       "      <td>5.2</td>\n",
       "      <td>2.3</td>\n",
       "      <td>virginica</td>\n",
       "    </tr>\n",
       "    <tr>\n",
       "      <th>146</th>\n",
       "      <td>147</td>\n",
       "      <td>6.3</td>\n",
       "      <td>2.5</td>\n",
       "      <td>5.0</td>\n",
       "      <td>1.9</td>\n",
       "      <td>virginica</td>\n",
       "    </tr>\n",
       "    <tr>\n",
       "      <th>147</th>\n",
       "      <td>148</td>\n",
       "      <td>6.5</td>\n",
       "      <td>3.0</td>\n",
       "      <td>5.2</td>\n",
       "      <td>2.0</td>\n",
       "      <td>virginica</td>\n",
       "    </tr>\n",
       "    <tr>\n",
       "      <th>148</th>\n",
       "      <td>149</td>\n",
       "      <td>6.2</td>\n",
       "      <td>3.4</td>\n",
       "      <td>5.4</td>\n",
       "      <td>2.3</td>\n",
       "      <td>virginica</td>\n",
       "    </tr>\n",
       "    <tr>\n",
       "      <th>149</th>\n",
       "      <td>150</td>\n",
       "      <td>5.9</td>\n",
       "      <td>3.0</td>\n",
       "      <td>5.1</td>\n",
       "      <td>1.8</td>\n",
       "      <td>virginica</td>\n",
       "    </tr>\n",
       "  </tbody>\n",
       "</table>\n",
       "<p>150 rows × 6 columns</p>\n",
       "</div>"
      ],
      "text/plain": [
       "     Unnamed: 0  Sepal.Length  Sepal.Width  Petal.Length  Petal.Width  \\\n",
       "0             1           5.1          3.5           1.4          0.2   \n",
       "1             2           4.9          3.0           1.4          0.2   \n",
       "2             3           4.7          3.2           1.3          0.2   \n",
       "3             4           4.6          3.1           1.5          0.2   \n",
       "4             5           5.0          3.6           1.4          0.2   \n",
       "..          ...           ...          ...           ...          ...   \n",
       "145         146           6.7          3.0           5.2          2.3   \n",
       "146         147           6.3          2.5           5.0          1.9   \n",
       "147         148           6.5          3.0           5.2          2.0   \n",
       "148         149           6.2          3.4           5.4          2.3   \n",
       "149         150           5.9          3.0           5.1          1.8   \n",
       "\n",
       "       Species  \n",
       "0       setosa  \n",
       "1       setosa  \n",
       "2       setosa  \n",
       "3       setosa  \n",
       "4       setosa  \n",
       "..         ...  \n",
       "145  virginica  \n",
       "146  virginica  \n",
       "147  virginica  \n",
       "148  virginica  \n",
       "149  virginica  \n",
       "\n",
       "[150 rows x 6 columns]"
      ]
     },
     "execution_count": 8,
     "metadata": {},
     "output_type": "execute_result"
    }
   ],
   "source": [
    "iris.head(150)"
   ]
  },
  {
   "cell_type": "code",
   "execution_count": 9,
   "metadata": {},
   "outputs": [
    {
     "name": "stdout",
     "output_type": "stream",
     "text": [
      "No of Versicolor in Dataset: 50\n"
     ]
    }
   ],
   "source": [
    "n = len(iris[iris['Species'] == 'versicolor'])\n",
    "print(\"No of Versicolor in Dataset:\",n)"
   ]
  },
  {
   "cell_type": "code",
   "execution_count": 10,
   "metadata": {},
   "outputs": [
    {
     "name": "stdout",
     "output_type": "stream",
     "text": [
      "No of Virginica in Dataset: 50\n"
     ]
    }
   ],
   "source": [
    "n1 = len(iris[iris['Species'] == 'virginica'])\n",
    "print(\"No of Virginica in Dataset:\",n1)"
   ]
  },
  {
   "cell_type": "code",
   "execution_count": 11,
   "metadata": {},
   "outputs": [
    {
     "name": "stdout",
     "output_type": "stream",
     "text": [
      "No of Setosa in Dataset: 50\n"
     ]
    }
   ],
   "source": [
    "n2 = len(iris[iris['Species'] == 'setosa'])\n",
    "print(\"No of Setosa in Dataset:\",n2)"
   ]
  },
  {
   "cell_type": "code",
   "execution_count": 12,
   "metadata": {},
   "outputs": [
    {
     "data": {
      "image/png": "[encoded data removed]",
      "text/plain": [
       "<Figure size 432x288 with 1 Axes>"
      ]
     },
     "metadata": {},
     "output_type": "display_data"
    }
   ],
   "source": [
    "fig = plt.figure()\n",
    "ax = fig.add_axes([0,0,1,1])\n",
    "ax.axis('equal')\n",
    "l = ['Versicolor', 'Setosa', 'Virginica']\n",
    "s = [50,50,50]\n",
    "ax.pie(s, labels = l,autopct='%1.2f%%')\n",
    "plt.show()"
   ]
  },
  {
   "cell_type": "code",
   "execution_count": 13,
   "metadata": {},
   "outputs": [
    {
     "data": {
      "image/png": "[encoded data removed]",
      "text/plain": [
       "<Figure size 432x288 with 1 Axes>"
      ]
     },
     "metadata": {
      "needs_background": "light"
     },
     "output_type": "display_data"
    },
    {
     "data": {
      "image/png": "[encoded data removed]",
      "text/plain": [
       "<Figure size 432x288 with 1 Axes>"
      ]
     },
     "metadata": {
      "needs_background": "light"
     },
     "output_type": "display_data"
    }
   ],
   "source": [
    "#Checking for outliars\n",
    "import matplotlib.pyplot as plt\n",
    "plt.figure(1)\n",
    "plt.boxplot([iris['Sepal.Length']])\n",
    "plt.figure(2)\n",
    "plt.boxplot([iris['Sepal.Width']])\n",
    "plt.show()"
   ]
  },
  {
   "cell_type": "code",
   "execution_count": 14,
   "metadata": {},
   "outputs": [
    {
     "data": {
      "image/png": "[encoded data removed]",
      "text/plain": [
       "<Figure size 432x288 with 6 Axes>"
      ]
     },
     "metadata": {
      "needs_background": "light"
     },
     "output_type": "display_data"
    }
   ],
   "source": [
    "iris.hist()\n",
    "plt.show()"
   ]
  },
  {
   "cell_type": "code",
   "execution_count": 15,
   "metadata": {},
   "outputs": [
    {
     "data": {
      "text/plain": [
       "array([[<AxesSubplot:ylabel='Density'>, <AxesSubplot:ylabel='Density'>,\n",
       "        <AxesSubplot:ylabel='Density'>],\n",
       "       [<AxesSubplot:ylabel='Density'>, <AxesSubplot:ylabel='Density'>,\n",
       "        <AxesSubplot:ylabel='Density'>],\n",
       "       [<AxesSubplot:ylabel='Density'>, <AxesSubplot:ylabel='Density'>,\n",
       "        <AxesSubplot:ylabel='Density'>]], dtype=object)"
      ]
     },
     "execution_count": 15,
     "metadata": {},
     "output_type": "execute_result"
    },
    {
     "data": {
      "image/png": "[encoded data removed]",
      "text/plain": [
       "<Figure size 432x288 with 9 Axes>"
      ]
     },
     "metadata": {
      "needs_background": "light"
     },
     "output_type": "display_data"
    }
   ],
   "source": [
    "iris.plot(kind ='density',subplots = True, layout =(3,3),sharex = False)"
   ]
  },
  {
   "cell_type": "code",
   "execution_count": 16,
   "metadata": {},
   "outputs": [
    {
     "data": {
      "text/plain": [
       "<AxesSubplot:xlabel='Species', ylabel='Sepal.Width'>"
      ]
     },
     "execution_count": 16,
     "metadata": {},
     "output_type": "execute_result"
    },
    {
     "data": {
      "image/png": "[encoded data removed]",
      "text/plain": [
       "<Figure size 1080x720 with 4 Axes>"
      ]
     },
     "metadata": {
      "needs_background": "light"
     },
     "output_type": "display_data"
    }
   ],
   "source": [
    "plt.figure(figsize=(15,10))\n",
    "plt.subplot(2,2,1)\n",
    "sns.violinplot(x='Species',y='Petal.Length',data=iris)\n",
    "plt.subplot(2,2,2)\n",
    "sns.violinplot(x='Species',y='Petal.Width',data=iris)\n",
    "plt.subplot(2,2,3)\n",
    "sns.violinplot(x='Species',y='Sepal.Length',data=iris)\n",
    "plt.subplot(2,2,4)\n",
    "sns.violinplot(x='Species',y='Sepal.Width',data=iris)"
   ]
  },
  {
   "cell_type": "code",
   "execution_count": 17,
   "metadata": {},
   "outputs": [
    {
     "data": {
      "image/png": "[encoded data removed]",
      "text/plain": [
       "<Figure size 720x504 with 2 Axes>"
      ]
     },
     "metadata": {
      "needs_background": "light"
     },
     "output_type": "display_data"
    }
   ],
   "source": [
    "#Heat Maps\n",
    "fig=plt.gcf()\n",
    "fig.set_size_inches(10,7)\n",
    "fig=sns.heatmap(iris.corr(),annot=True,cmap='cubehelix',linewidths=1,linecolor='k',square=True,mask=False, vmin=-1, vmax=1,cbar_kws={\"orientation\": \"vertical\"},cbar=True)\n"
   ]
  },
  {
   "cell_type": "code",
   "execution_count": 18,
   "metadata": {},
   "outputs": [
    {
     "name": "stdout",
     "output_type": "stream",
     "text": [
      "[[5.1]\n",
      " [4.9]\n",
      " [4.7]\n",
      " [4.6]\n",
      " [5. ]\n",
      " [5.4]\n",
      " [4.6]\n",
      " [5. ]\n",
      " [4.4]\n",
      " [4.9]\n",
      " [5.4]\n",
      " [4.8]\n",
      " [4.8]\n",
      " [4.3]\n",
      " [5.8]\n",
      " [5.7]\n",
      " [5.4]\n",
      " [5.1]\n",
      " [5.7]\n",
      " [5.1]\n",
      " [5.4]\n",
      " [5.1]\n",
      " [4.6]\n",
      " [5.1]\n",
      " [4.8]\n",
      " [5. ]\n",
      " [5. ]\n",
      " [5.2]\n",
      " [5.2]\n",
      " [4.7]\n",
      " [4.8]\n",
      " [5.4]\n",
      " [5.2]\n",
      " [5.5]\n",
      " [4.9]\n",
      " [5. ]\n",
      " [5.5]\n",
      " [4.9]\n",
      " [4.4]\n",
      " [5.1]\n",
      " [5. ]\n",
      " [4.5]\n",
      " [4.4]\n",
      " [5. ]\n",
      " [5.1]\n",
      " [4.8]\n",
      " [5.1]\n",
      " [4.6]\n",
      " [5.3]\n",
      " [5. ]\n",
      " [7. ]\n",
      " [6.4]\n",
      " [6.9]\n",
      " [5.5]\n",
      " [6.5]\n",
      " [5.7]\n",
      " [6.3]\n",
      " [4.9]\n",
      " [6.6]\n",
      " [5.2]\n",
      " [5. ]\n",
      " [5.9]\n",
      " [6. ]\n",
      " [6.1]\n",
      " [5.6]\n",
      " [6.7]\n",
      " [5.6]\n",
      " [5.8]\n",
      " [6.2]\n",
      " [5.6]\n",
      " [5.9]\n",
      " [6.1]\n",
      " [6.3]\n",
      " [6.1]\n",
      " [6.4]\n",
      " [6.6]\n",
      " [6.8]\n",
      " [6.7]\n",
      " [6. ]\n",
      " [5.7]\n",
      " [5.5]\n",
      " [5.5]\n",
      " [5.8]\n",
      " [6. ]\n",
      " [5.4]\n",
      " [6. ]\n",
      " [6.7]\n",
      " [6.3]\n",
      " [5.6]\n",
      " [5.5]\n",
      " [5.5]\n",
      " [6.1]\n",
      " [5.8]\n",
      " [5. ]\n",
      " [5.6]\n",
      " [5.7]\n",
      " [5.7]\n",
      " [6.2]\n",
      " [5.1]\n",
      " [5.7]\n",
      " [6.3]\n",
      " [5.8]\n",
      " [7.1]\n",
      " [6.3]\n",
      " [6.5]\n",
      " [7.6]\n",
      " [4.9]\n",
      " [7.3]\n",
      " [6.7]\n",
      " [7.2]\n",
      " [6.5]\n",
      " [6.4]\n",
      " [6.8]\n",
      " [5.7]\n",
      " [5.8]\n",
      " [6.4]\n",
      " [6.5]\n",
      " [7.7]\n",
      " [7.7]\n",
      " [6. ]\n",
      " [6.9]\n",
      " [5.6]\n",
      " [7.7]\n",
      " [6.3]\n",
      " [6.7]\n",
      " [7.2]\n",
      " [6.2]\n",
      " [6.1]\n",
      " [6.4]\n",
      " [7.2]\n",
      " [7.4]\n",
      " [7.9]\n",
      " [6.4]\n",
      " [6.3]\n",
      " [6.1]\n",
      " [7.7]\n",
      " [6.3]\n",
      " [6.4]\n",
      " [6. ]\n",
      " [6.9]\n",
      " [6.7]\n",
      " [6.9]\n",
      " [5.8]\n",
      " [6.8]\n",
      " [6.7]\n",
      " [6.7]\n",
      " [6.3]\n",
      " [6.5]\n",
      " [6.2]\n",
      " [5.9]]\n"
     ]
    }
   ],
   "source": [
    "X = iris['Sepal.Length'].values.reshape(-1,1)\n",
    "print(X)"
   ]
  },
  {
   "cell_type": "code",
   "execution_count": 19,
   "metadata": {},
   "outputs": [
    {
     "name": "stdout",
     "output_type": "stream",
     "text": [
      "[[3.5]\n",
      " [3. ]\n",
      " [3.2]\n",
      " [3.1]\n",
      " [3.6]\n",
      " [3.9]\n",
      " [3.4]\n",
      " [3.4]\n",
      " [2.9]\n",
      " [3.1]\n",
      " [3.7]\n",
      " [3.4]\n",
      " [3. ]\n",
      " [3. ]\n",
      " [4. ]\n",
      " [4.4]\n",
      " [3.9]\n",
      " [3.5]\n",
      " [3.8]\n",
      " [3.8]\n",
      " [3.4]\n",
      " [3.7]\n",
      " [3.6]\n",
      " [3.3]\n",
      " [3.4]\n",
      " [3. ]\n",
      " [3.4]\n",
      " [3.5]\n",
      " [3.4]\n",
      " [3.2]\n",
      " [3.1]\n",
      " [3.4]\n",
      " [4.1]\n",
      " [4.2]\n",
      " [3.1]\n",
      " [3.2]\n",
      " [3.5]\n",
      " [3.6]\n",
      " [3. ]\n",
      " [3.4]\n",
      " [3.5]\n",
      " [2.3]\n",
      " [3.2]\n",
      " [3.5]\n",
      " [3.8]\n",
      " [3. ]\n",
      " [3.8]\n",
      " [3.2]\n",
      " [3.7]\n",
      " [3.3]\n",
      " [3.2]\n",
      " [3.2]\n",
      " [3.1]\n",
      " [2.3]\n",
      " [2.8]\n",
      " [2.8]\n",
      " [3.3]\n",
      " [2.4]\n",
      " [2.9]\n",
      " [2.7]\n",
      " [2. ]\n",
      " [3. ]\n",
      " [2.2]\n",
      " [2.9]\n",
      " [2.9]\n",
      " [3.1]\n",
      " [3. ]\n",
      " [2.7]\n",
      " [2.2]\n",
      " [2.5]\n",
      " [3.2]\n",
      " [2.8]\n",
      " [2.5]\n",
      " [2.8]\n",
      " [2.9]\n",
      " [3. ]\n",
      " [2.8]\n",
      " [3. ]\n",
      " [2.9]\n",
      " [2.6]\n",
      " [2.4]\n",
      " [2.4]\n",
      " [2.7]\n",
      " [2.7]\n",
      " [3. ]\n",
      " [3.4]\n",
      " [3.1]\n",
      " [2.3]\n",
      " [3. ]\n",
      " [2.5]\n",
      " [2.6]\n",
      " [3. ]\n",
      " [2.6]\n",
      " [2.3]\n",
      " [2.7]\n",
      " [3. ]\n",
      " [2.9]\n",
      " [2.9]\n",
      " [2.5]\n",
      " [2.8]\n",
      " [3.3]\n",
      " [2.7]\n",
      " [3. ]\n",
      " [2.9]\n",
      " [3. ]\n",
      " [3. ]\n",
      " [2.5]\n",
      " [2.9]\n",
      " [2.5]\n",
      " [3.6]\n",
      " [3.2]\n",
      " [2.7]\n",
      " [3. ]\n",
      " [2.5]\n",
      " [2.8]\n",
      " [3.2]\n",
      " [3. ]\n",
      " [3.8]\n",
      " [2.6]\n",
      " [2.2]\n",
      " [3.2]\n",
      " [2.8]\n",
      " [2.8]\n",
      " [2.7]\n",
      " [3.3]\n",
      " [3.2]\n",
      " [2.8]\n",
      " [3. ]\n",
      " [2.8]\n",
      " [3. ]\n",
      " [2.8]\n",
      " [3.8]\n",
      " [2.8]\n",
      " [2.8]\n",
      " [2.6]\n",
      " [3. ]\n",
      " [3.4]\n",
      " [3.1]\n",
      " [3. ]\n",
      " [3.1]\n",
      " [3.1]\n",
      " [3.1]\n",
      " [2.7]\n",
      " [3.2]\n",
      " [3.3]\n",
      " [3. ]\n",
      " [2.5]\n",
      " [3. ]\n",
      " [3.4]\n",
      " [3. ]]\n"
     ]
    }
   ],
   "source": [
    "Y = iris['Sepal.Width'].values.reshape(-1,1)\n",
    "print(Y)\n"
   ]
  },
  {
   "cell_type": "code",
   "execution_count": 20,
   "metadata": {},
   "outputs": [
    {
     "data": {
      "image/png": "[encoded data removed]",
      "text/plain": [
       "<Figure size 432x288 with 1 Axes>"
      ]
     },
     "metadata": {
      "needs_background": "light"
     },
     "output_type": "display_data"
    }
   ],
   "source": [
    "plt.xlabel(\"Sepal Length\")\n",
    "plt.ylabel(\"Sepal Width\")\n",
    "plt.scatter(X,Y,color='b')\n",
    "plt.show()"
   ]
  },
  {
   "cell_type": "code",
   "execution_count": 21,
   "metadata": {},
   "outputs": [
    {
     "name": "stdout",
     "output_type": "stream",
     "text": [
      "              Unnamed: 0  Sepal.Length  Sepal.Width  Petal.Length  Petal.Width\n",
      "Unnamed: 0      1.000000      0.716676    -0.402301      0.882637     0.900027\n",
      "Sepal.Length    0.716676      1.000000    -0.117570      0.871754     0.817941\n",
      "Sepal.Width    -0.402301     -0.117570     1.000000     -0.428440    -0.366126\n",
      "Petal.Length    0.882637      0.871754    -0.428440      1.000000     0.962865\n",
      "Petal.Width     0.900027      0.817941    -0.366126      0.962865     1.000000\n"
     ]
    }
   ],
   "source": [
    "#Correlation \n",
    "corr_mat = iris.corr()\n",
    "print(corr_mat)"
   ]
  },
  {
   "cell_type": "code",
   "execution_count": 22,
   "metadata": {},
   "outputs": [],
   "source": [
    "from sklearn.linear_model import LogisticRegression \n",
    "from sklearn.model_selection import train_test_split\n",
    "from sklearn.neighbors import KNeighborsClassifier\n",
    "from sklearn import svm\n",
    "from sklearn import metrics\n",
    "from sklearn.tree import DecisionTreeClassifier"
   ]
  },
  {
   "cell_type": "code",
   "execution_count": 23,
   "metadata": {},
   "outputs": [
    {
     "name": "stdout",
     "output_type": "stream",
     "text": [
      "(112, 6)\n",
      "(38, 6)\n"
     ]
    }
   ],
   "source": [
    "train, test = train_test_split(iris, test_size = 0.25)\n",
    "print(train.shape)\n",
    "print(test.shape)"
   ]
  },
  {
   "cell_type": "code",
   "execution_count": 24,
   "metadata": {},
   "outputs": [],
   "source": [
    "train_X = train[['Sepal.Length', 'Sepal.Width', 'Petal.Length',\n",
    "                 'Petal.Width']]\n",
    "train_y = train.Species\n",
    "\n",
    "test_X = test[['Sepal.Length', 'Sepal.Width', 'Petal.Length',\n",
    "                 'Petal.Width']]\n",
    "test_y = test.Species"
   ]
  },
  {
   "cell_type": "code",
   "execution_count": 25,
   "metadata": {},
   "outputs": [
    {
     "data": {
      "text/html": [
       "<div>\n",
       "<style scoped>\n",
       "    .dataframe tbody tr th:only-of-type {\n",
       "        vertical-align: middle;\n",
       "    }\n",
       "\n",
       "    .dataframe tbody tr th {\n",
       "        vertical-align: top;\n",
       "    }\n",
       "\n",
       "    .dataframe thead th {\n",
       "        text-align: right;\n",
       "    }\n",
       "</style>\n",
       "<table border=\"1\" class=\"dataframe\">\n",
       "  <thead>\n",
       "    <tr style=\"text-align: right;\">\n",
       "      <th></th>\n",
       "      <th>Sepal.Length</th>\n",
       "      <th>Sepal.Width</th>\n",
       "      <th>Petal.Length</th>\n",
       "      <th>Petal.Width</th>\n",
       "    </tr>\n",
       "  </thead>\n",
       "  <tbody>\n",
       "    <tr>\n",
       "      <th>79</th>\n",
       "      <td>5.7</td>\n",
       "      <td>2.6</td>\n",
       "      <td>3.5</td>\n",
       "      <td>1.0</td>\n",
       "    </tr>\n",
       "    <tr>\n",
       "      <th>91</th>\n",
       "      <td>6.1</td>\n",
       "      <td>3.0</td>\n",
       "      <td>4.6</td>\n",
       "      <td>1.4</td>\n",
       "    </tr>\n",
       "    <tr>\n",
       "      <th>90</th>\n",
       "      <td>5.5</td>\n",
       "      <td>2.6</td>\n",
       "      <td>4.4</td>\n",
       "      <td>1.2</td>\n",
       "    </tr>\n",
       "    <tr>\n",
       "      <th>128</th>\n",
       "      <td>6.4</td>\n",
       "      <td>2.8</td>\n",
       "      <td>5.6</td>\n",
       "      <td>2.1</td>\n",
       "    </tr>\n",
       "    <tr>\n",
       "      <th>72</th>\n",
       "      <td>6.3</td>\n",
       "      <td>2.5</td>\n",
       "      <td>4.9</td>\n",
       "      <td>1.5</td>\n",
       "    </tr>\n",
       "  </tbody>\n",
       "</table>\n",
       "</div>"
      ],
      "text/plain": [
       "     Sepal.Length  Sepal.Width  Petal.Length  Petal.Width\n",
       "79            5.7          2.6           3.5          1.0\n",
       "91            6.1          3.0           4.6          1.4\n",
       "90            5.5          2.6           4.4          1.2\n",
       "128           6.4          2.8           5.6          2.1\n",
       "72            6.3          2.5           4.9          1.5"
      ]
     },
     "execution_count": 25,
     "metadata": {},
     "output_type": "execute_result"
    }
   ],
   "source": [
    "train_X.head()"
   ]
  },
  {
   "cell_type": "code",
   "execution_count": 26,
   "metadata": {},
   "outputs": [
    {
     "name": "stdout",
     "output_type": "stream",
     "text": [
      "Accuracy: 1.0\n"
     ]
    }
   ],
   "source": [
    "#Using LogisticRegression\n",
    "model = LogisticRegression()\n",
    "model.fit(train_X, train_y)\n",
    "prediction = model.predict(test_X)\n",
    "print('Accuracy:',metrics.accuracy_score(prediction,test_y))"
   ]
  },
  {
   "cell_type": "code",
   "execution_count": 27,
   "metadata": {},
   "outputs": [
    {
     "name": "stdout",
     "output_type": "stream",
     "text": [
      "Confusion matrix: \n",
      " [[13  0  0]\n",
      " [ 0 12  0]\n",
      " [ 0  0 13]]\n",
      "              precision    recall  f1-score   support\n",
      "\n",
      "      setosa       1.00      1.00      1.00        13\n",
      "  versicolor       1.00      1.00      1.00        12\n",
      "   virginica       1.00      1.00      1.00        13\n",
      "\n",
      "    accuracy                           1.00        38\n",
      "   macro avg       1.00      1.00      1.00        38\n",
      "weighted avg       1.00      1.00      1.00        38\n",
      "\n"
     ]
    }
   ],
   "source": [
    "from sklearn.metrics import confusion_matrix,classification_report\n",
    "confusion_mat = confusion_matrix(test_y,prediction)\n",
    "print(\"Confusion matrix: \\n\",confusion_mat)\n",
    "print(classification_report(test_y,prediction))"
   ]
  },
  {
   "cell_type": "code",
   "execution_count": 28,
   "metadata": {},
   "outputs": [
    {
     "name": "stdout",
     "output_type": "stream",
     "text": [
      "Acc= 1.0\n"
     ]
    }
   ],
   "source": [
    "#Using Support Vector\n",
    "from sklearn.svm import SVC\n",
    "model1 = SVC()\n",
    "model1.fit(train_X,train_y)\n",
    "\n",
    "pred_y = model1.predict(test_X)\n",
    "\n",
    "from sklearn.metrics import accuracy_score\n",
    "print(\"Acc=\",accuracy_score(test_y,pred_y))"
   ]
  },
  {
   "cell_type": "code",
   "execution_count": 29,
   "metadata": {},
   "outputs": [
    {
     "name": "stdout",
     "output_type": "stream",
     "text": [
      "Accuracy Score: 1.0\n"
     ]
    }
   ],
   "source": [
    "from sklearn.neighbors import KNeighborsClassifier\n",
    "model2 = KNeighborsClassifier(n_neighbors=5)\n",
    "model2.fit(train_X,train_y)\n",
    "y_pred2 = model2.predict(test_X)\n",
    "\n",
    "from sklearn.metrics import accuracy_score\n",
    "print(\"Accuracy Score:\",accuracy_score(test_y,y_pred2))"
   ]
  },
  {
   "cell_type": "code",
   "execution_count": 30,
   "metadata": {},
   "outputs": [
    {
     "name": "stdout",
     "output_type": "stream",
     "text": [
      "Accuracy Score: 1.0\n"
     ]
    }
   ],
   "source": [
    "#Using GaussianNB\n",
    "from sklearn.naive_bayes import GaussianNB\n",
    "model3 = GaussianNB()\n",
    "model3.fit(train_X,train_y)\n",
    "y_pred3 = model3.predict(test_X)\n",
    "\n",
    "from sklearn.metrics import accuracy_score\n",
    "print(\"Accuracy Score:\",accuracy_score(test_y,y_pred3))"
   ]
  },
  {
   "cell_type": "code",
   "execution_count": 31,
   "metadata": {},
   "outputs": [
    {
     "name": "stdout",
     "output_type": "stream",
     "text": [
      "Accuracy Score: 1.0\n"
     ]
    }
   ],
   "source": [
    "#Using Decision Tree\n",
    "from sklearn.tree import DecisionTreeClassifier\n",
    "model4 = DecisionTreeClassifier(criterion='entropy',random_state=7)\n",
    "model4.fit(train_X,train_y)\n",
    "y_pred4 = model4.predict(test_X)\n",
    "\n",
    "from sklearn.metrics import accuracy_score\n",
    "print(\"Accuracy Score:\",accuracy_score(test_y,y_pred4))"
   ]
  },
  {
   "cell_type": "code",
   "execution_count": 32,
   "metadata": {},
   "outputs": [
    {
     "data": {
      "text/html": [
       "<div>\n",
       "<style scoped>\n",
       "    .dataframe tbody tr th:only-of-type {\n",
       "        vertical-align: middle;\n",
       "    }\n",
       "\n",
       "    .dataframe tbody tr th {\n",
       "        vertical-align: top;\n",
       "    }\n",
       "\n",
       "    .dataframe thead th {\n",
       "        text-align: right;\n",
       "    }\n",
       "</style>\n",
       "<table border=\"1\" class=\"dataframe\">\n",
       "  <thead>\n",
       "    <tr style=\"text-align: right;\">\n",
       "      <th></th>\n",
       "      <th>Model</th>\n",
       "    </tr>\n",
       "    <tr>\n",
       "      <th>Score</th>\n",
       "      <th></th>\n",
       "    </tr>\n",
       "  </thead>\n",
       "  <tbody>\n",
       "    <tr>\n",
       "      <th>0.947</th>\n",
       "      <td>Logistic Regression</td>\n",
       "    </tr>\n",
       "    <tr>\n",
       "      <th>0.947</th>\n",
       "      <td>Support Vector Machines</td>\n",
       "    </tr>\n",
       "    <tr>\n",
       "      <th>0.947</th>\n",
       "      <td>Naive Bayes</td>\n",
       "    </tr>\n",
       "    <tr>\n",
       "      <th>0.947</th>\n",
       "      <td>KNN</td>\n",
       "    </tr>\n",
       "    <tr>\n",
       "      <th>0.921</th>\n",
       "      <td>Decision Tree</td>\n",
       "    </tr>\n",
       "  </tbody>\n",
       "</table>\n",
       "</div>"
      ],
      "text/plain": [
       "                         Model\n",
       "Score                         \n",
       "0.947      Logistic Regression\n",
       "0.947  Support Vector Machines\n",
       "0.947              Naive Bayes\n",
       "0.947                      KNN\n",
       "0.921            Decision Tree"
      ]
     },
     "execution_count": 32,
     "metadata": {},
     "output_type": "execute_result"
    }
   ],
   "source": [
    "results = pd.DataFrame({\n",
    "    'Model': ['Logistic Regression','Support Vector Machines', 'Naive Bayes','KNN' ,'Decision Tree'],\n",
    "    'Score': [0.947,0.947,0.947,0.947,0.921]})\n",
    "\n",
    "result_df = results.sort_values(by='Score', ascending=False)\n",
    "result_df = result_df.set_index('Score')\n",
    "result_df.head(9)"
   ]
  },
  {
   "cell_type": "code",
   "execution_count": null,
   "metadata": {},
   "outputs": [],
   "source": [
    "#Hence I will use Naive Bayes algorithms for training my model."
   ]
  }
 ],
 "metadata": {
  "kernelspec": {
   "display_name": "Python 3",
   "language": "python",
   "name": "python3"
  },
  "language_info": {
   "codemirror_mode": {
    "name": "ipython",
    "version": 3
   },
   "file_extension": ".py",
   "mimetype": "text/x-python",
   "name": "python",
   "nbconvert_exporter": "python",
   "pygments_lexer": "ipython3",
   "version": "3.7.4"
  }
 },
 "nbformat": 4,
 "nbformat_minor": 2
}
